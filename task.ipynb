{
 "cells": [
  {
   "cell_type": "code",
   "execution_count": 3,
   "metadata": {},
   "outputs": [
    {
     "data": {
      "text/plain": [
       "2.718268237197528"
      ]
     },
     "execution_count": 3,
     "metadata": {},
     "output_type": "execute_result"
    }
   ],
   "source": [
    "def stepen(num, power):\n",
    "    if power == 0 or power == 1:\n",
    "        return num\n",
    "    else:\n",
    "        if power % 2 == 0:\n",
    "            return stepen(num*num, power/2)\n",
    "        else:\n",
    "            return num*stepen(num, power-1)\n",
    "        \n",
    "stepen(1.00001, 100000)"
   ]
  }
 ],
 "metadata": {
  "kernelspec": {
   "display_name": "python_lvl_3_projects",
   "language": "python",
   "name": "python3"
  },
  "language_info": {
   "codemirror_mode": {
    "name": "ipython",
    "version": 3
   },
   "file_extension": ".py",
   "mimetype": "text/x-python",
   "name": "python",
   "nbconvert_exporter": "python",
   "pygments_lexer": "ipython3",
   "version": "3.12.4"
  }
 },
 "nbformat": 4,
 "nbformat_minor": 2
}
