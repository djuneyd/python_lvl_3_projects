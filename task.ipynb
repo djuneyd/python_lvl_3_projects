{
 "cells": [
  {
   "cell_type": "code",
   "execution_count": 3,
   "metadata": {},
   "outputs": [
    {
     "data": {
      "text/plain": [
       "2.718268237197528"
      ]
     },
     "execution_count": 3,
     "metadata": {},
     "output_type": "execute_result"
    }
   ],
   "source": [
    "def stepen(num, sss):\n",
    "    if sss == 0 or sss == 1:\n",
    "        return num\n",
    "    else:\n",
    "        if sss % 2 == 0:\n",
    "            return stepen(num*num, sss/2)\n",
    "        else:\n",
    "            return num*stepen(num, sss-1)\n",
    "        \n",
    "stepen(float(input()), int(input))"
   ]
  }
 ],
 "metadata": {
  "kernelspec": {
   "display_name": "python_lvl_3_projects",
   "language": "python",
   "name": "python3"
  },
  "language_info": {
   "codemirror_mode": {
    "name": "ipython",
    "version": 3
   },
   "file_extension": ".py",
   "mimetype": "text/x-python",
   "name": "python",
   "nbconvert_exporter": "python",
   "pygments_lexer": "ipython3",
   "version": "3.12.4"
  }
 },
 "nbformat": 4,
 "nbformat_minor": 2
}
